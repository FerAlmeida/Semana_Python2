{
 "cells": [
  {
   "cell_type": "markdown",
   "metadata": {},
   "source": [
    "# Projeto 02\n",
    "\n",
    " Passo a passo do problema\n",
    "- Buscar as informações das ações automatiamente\n",
    "- Criar a análises solicitadas\n",
    "    - cotação máxima\n",
    "    - cotação mínima\n",
    "    valor médio das ações\n",
    "- Enviar um e-mail para o gestor "
   ]
  },
  {
   "cell_type": "markdown",
   "metadata": {},
   "source": [
    "#### * Buscando os dados das ações automaticamente\n",
    "\n",
    "Bibliotecas: yfinance e matplotlib\n",
    "\n",
    "pip install yfinance  pip install matplotlib"
   ]
  },
  {
   "cell_type": "code",
   "execution_count": 2,
   "metadata": {},
   "outputs": [],
   "source": [
    "import yfinance\n"
   ]
  },
  {
   "cell_type": "code",
   "execution_count": 3,
   "metadata": {},
   "outputs": [
    {
     "data": {
      "text/plain": [
       "yfinance.Ticker object <PETR4.SA>"
      ]
     },
     "execution_count": 3,
     "metadata": {},
     "output_type": "execute_result"
    }
   ],
   "source": [
    "# agora vamos buscar os dados no site desejado, no caso o Yahoo Finance\n",
    "yfinance.Ticker(\"PETR4.SA\")\n",
    "# o código (\"PETR4.SA\") se consegue dentro do site do Yahoo Finance onde cada empresa tem seu próprio códio. Abaixo yfinance.Ticker object <PETR4.SA> a confirmação de que o sistema já está em contato com a base de dados do Yahoo e nas ações da PETROBRAS."
   ]
  },
  {
   "cell_type": "code",
   "execution_count": 4,
   "metadata": {},
   "outputs": [
    {
     "data": {
      "text/html": [
       "<div>\n",
       "<style scoped>\n",
       "    .dataframe tbody tr th:only-of-type {\n",
       "        vertical-align: middle;\n",
       "    }\n",
       "\n",
       "    .dataframe tbody tr th {\n",
       "        vertical-align: top;\n",
       "    }\n",
       "\n",
       "    .dataframe thead th {\n",
       "        text-align: right;\n",
       "    }\n",
       "</style>\n",
       "<table border=\"1\" class=\"dataframe\">\n",
       "  <thead>\n",
       "    <tr style=\"text-align: right;\">\n",
       "      <th></th>\n",
       "      <th>Open</th>\n",
       "      <th>High</th>\n",
       "      <th>Low</th>\n",
       "      <th>Close</th>\n",
       "      <th>Volume</th>\n",
       "      <th>Dividends</th>\n",
       "      <th>Stock Splits</th>\n",
       "    </tr>\n",
       "    <tr>\n",
       "      <th>Date</th>\n",
       "      <th></th>\n",
       "      <th></th>\n",
       "      <th></th>\n",
       "      <th></th>\n",
       "      <th></th>\n",
       "      <th></th>\n",
       "      <th></th>\n",
       "    </tr>\n",
       "  </thead>\n",
       "  <tbody>\n",
       "    <tr>\n",
       "      <th>2020-01-02 00:00:00-03:00</th>\n",
       "      <td>10.856116</td>\n",
       "      <td>10.923722</td>\n",
       "      <td>10.784951</td>\n",
       "      <td>10.923722</td>\n",
       "      <td>37774500</td>\n",
       "      <td>0.0</td>\n",
       "      <td>0.0</td>\n",
       "    </tr>\n",
       "    <tr>\n",
       "      <th>2020-01-03 00:00:00-03:00</th>\n",
       "      <td>10.987769</td>\n",
       "      <td>11.115865</td>\n",
       "      <td>10.834766</td>\n",
       "      <td>10.834766</td>\n",
       "      <td>71595600</td>\n",
       "      <td>0.0</td>\n",
       "      <td>0.0</td>\n",
       "    </tr>\n",
       "    <tr>\n",
       "      <th>2020-01-06 00:00:00-03:00</th>\n",
       "      <td>10.827650</td>\n",
       "      <td>11.009119</td>\n",
       "      <td>10.656856</td>\n",
       "      <td>10.962862</td>\n",
       "      <td>81844000</td>\n",
       "      <td>0.0</td>\n",
       "      <td>0.0</td>\n",
       "    </tr>\n",
       "    <tr>\n",
       "      <th>2020-01-07 00:00:00-03:00</th>\n",
       "      <td>10.966421</td>\n",
       "      <td>10.987770</td>\n",
       "      <td>10.841883</td>\n",
       "      <td>10.920164</td>\n",
       "      <td>32822000</td>\n",
       "      <td>0.0</td>\n",
       "      <td>0.0</td>\n",
       "    </tr>\n",
       "    <tr>\n",
       "      <th>2020-01-08 00:00:00-03:00</th>\n",
       "      <td>10.920165</td>\n",
       "      <td>10.948631</td>\n",
       "      <td>10.760045</td>\n",
       "      <td>10.852559</td>\n",
       "      <td>48215600</td>\n",
       "      <td>0.0</td>\n",
       "      <td>0.0</td>\n",
       "    </tr>\n",
       "    <tr>\n",
       "      <th>...</th>\n",
       "      <td>...</td>\n",
       "      <td>...</td>\n",
       "      <td>...</td>\n",
       "      <td>...</td>\n",
       "      <td>...</td>\n",
       "      <td>...</td>\n",
       "      <td>...</td>\n",
       "    </tr>\n",
       "    <tr>\n",
       "      <th>2020-12-22 00:00:00-03:00</th>\n",
       "      <td>9.678541</td>\n",
       "      <td>9.774614</td>\n",
       "      <td>9.625166</td>\n",
       "      <td>9.707007</td>\n",
       "      <td>46513200</td>\n",
       "      <td>0.0</td>\n",
       "      <td>0.0</td>\n",
       "    </tr>\n",
       "    <tr>\n",
       "      <th>2020-12-23 00:00:00-03:00</th>\n",
       "      <td>9.760381</td>\n",
       "      <td>10.052160</td>\n",
       "      <td>9.731914</td>\n",
       "      <td>9.945412</td>\n",
       "      <td>49038900</td>\n",
       "      <td>0.0</td>\n",
       "      <td>0.0</td>\n",
       "    </tr>\n",
       "    <tr>\n",
       "      <th>2020-12-28 00:00:00-03:00</th>\n",
       "      <td>10.091301</td>\n",
       "      <td>10.148233</td>\n",
       "      <td>10.027251</td>\n",
       "      <td>10.027251</td>\n",
       "      <td>36313300</td>\n",
       "      <td>0.0</td>\n",
       "      <td>0.0</td>\n",
       "    </tr>\n",
       "    <tr>\n",
       "      <th>2020-12-29 00:00:00-03:00</th>\n",
       "      <td>10.098417</td>\n",
       "      <td>10.116209</td>\n",
       "      <td>9.959644</td>\n",
       "      <td>10.059277</td>\n",
       "      <td>29891100</td>\n",
       "      <td>0.0</td>\n",
       "      <td>0.0</td>\n",
       "    </tr>\n",
       "    <tr>\n",
       "      <th>2020-12-30 00:00:00-03:00</th>\n",
       "      <td>10.087742</td>\n",
       "      <td>10.137558</td>\n",
       "      <td>10.034368</td>\n",
       "      <td>10.084184</td>\n",
       "      <td>36968200</td>\n",
       "      <td>0.0</td>\n",
       "      <td>0.0</td>\n",
       "    </tr>\n",
       "  </tbody>\n",
       "</table>\n",
       "<p>248 rows × 7 columns</p>\n",
       "</div>"
      ],
      "text/plain": [
       "                                Open       High        Low      Close  \\\n",
       "Date                                                                    \n",
       "2020-01-02 00:00:00-03:00  10.856116  10.923722  10.784951  10.923722   \n",
       "2020-01-03 00:00:00-03:00  10.987769  11.115865  10.834766  10.834766   \n",
       "2020-01-06 00:00:00-03:00  10.827650  11.009119  10.656856  10.962862   \n",
       "2020-01-07 00:00:00-03:00  10.966421  10.987770  10.841883  10.920164   \n",
       "2020-01-08 00:00:00-03:00  10.920165  10.948631  10.760045  10.852559   \n",
       "...                              ...        ...        ...        ...   \n",
       "2020-12-22 00:00:00-03:00   9.678541   9.774614   9.625166   9.707007   \n",
       "2020-12-23 00:00:00-03:00   9.760381  10.052160   9.731914   9.945412   \n",
       "2020-12-28 00:00:00-03:00  10.091301  10.148233  10.027251  10.027251   \n",
       "2020-12-29 00:00:00-03:00  10.098417  10.116209   9.959644  10.059277   \n",
       "2020-12-30 00:00:00-03:00  10.087742  10.137558  10.034368  10.084184   \n",
       "\n",
       "                             Volume  Dividends  Stock Splits  \n",
       "Date                                                          \n",
       "2020-01-02 00:00:00-03:00  37774500        0.0           0.0  \n",
       "2020-01-03 00:00:00-03:00  71595600        0.0           0.0  \n",
       "2020-01-06 00:00:00-03:00  81844000        0.0           0.0  \n",
       "2020-01-07 00:00:00-03:00  32822000        0.0           0.0  \n",
       "2020-01-08 00:00:00-03:00  48215600        0.0           0.0  \n",
       "...                             ...        ...           ...  \n",
       "2020-12-22 00:00:00-03:00  46513200        0.0           0.0  \n",
       "2020-12-23 00:00:00-03:00  49038900        0.0           0.0  \n",
       "2020-12-28 00:00:00-03:00  36313300        0.0           0.0  \n",
       "2020-12-29 00:00:00-03:00  29891100        0.0           0.0  \n",
       "2020-12-30 00:00:00-03:00  36968200        0.0           0.0  \n",
       "\n",
       "[248 rows x 7 columns]"
      ]
     },
     "execution_count": 4,
     "metadata": {},
     "output_type": "execute_result"
    }
   ],
   "source": [
    "\n",
    "# Agora vamos passar o período em que desejamos essas análises, onde start é o início e end o final do período\n",
    "dados = yfinance.Ticker(\"PETR4.SA\").history(start=\"2020-01-01\", end=\"2020-12-31\")\n",
    "dados"
   ]
  },
  {
   "cell_type": "code",
   "execution_count": 6,
   "metadata": {},
   "outputs": [
    {
     "data": {
      "text/plain": [
       "Date\n",
       "2020-01-02 00:00:00-03:00    10.923722\n",
       "2020-01-03 00:00:00-03:00    10.834766\n",
       "2020-01-06 00:00:00-03:00    10.962862\n",
       "2020-01-07 00:00:00-03:00    10.920164\n",
       "2020-01-08 00:00:00-03:00    10.852559\n",
       "                               ...    \n",
       "2020-12-22 00:00:00-03:00     9.707007\n",
       "2020-12-23 00:00:00-03:00     9.945412\n",
       "2020-12-28 00:00:00-03:00    10.027251\n",
       "2020-12-29 00:00:00-03:00    10.059277\n",
       "2020-12-30 00:00:00-03:00    10.084184\n",
       "Name: Close, Length: 248, dtype: float64"
      ]
     },
     "execution_count": 6,
     "metadata": {},
     "output_type": "execute_result"
    }
   ],
   "source": [
    "\n",
    "# como vamos trabalhar apenas com dados de fechamento destes dados nesse período, não é necessário que fique com toda essa tabela, porém ela permaneceu para efeito didático. Com o código abaixo vamos extarir apenas o período que é pedido pelo projeto, ou seja, fechamento.\n",
    "dados = yfinance.Ticker(\"PETR4.SA\").history(start=\"2020-01-01\", end=\"2020-12-31\")\n",
    "fechamento = dados.Close\n",
    "fechamento"
   ]
  },
  {
   "cell_type": "markdown",
   "metadata": {},
   "source": [
    "##### Se desejassemos expor esses dados em um gráfico, faríamos da seguinte forma, utilizando o metplotlib"
   ]
  },
  {
   "cell_type": "code",
   "execution_count": 41,
   "metadata": {},
   "outputs": [
    {
     "data": {
      "text/plain": [
       "<Axes: xlabel='Date'>"
      ]
     },
     "execution_count": 41,
     "metadata": {},
     "output_type": "execute_result"
    },
    {
     "data": {
      "image/png": "[encoded data removed]",
      "text/plain": [
       "<Figure size 640x480 with 1 Axes>"
      ]
     },
     "metadata": {},
     "output_type": "display_data"
    }
   ],
   "source": [
    "ticker = input(\"Digite o código da ação desejada: \")\n",
    "\n",
    "dados = yfinance.Ticker(\"PETR4.SA\").history(start=\"2020-01-01\", end=\"2020-12-31\")\n",
    "fechamento = dados.Close\n",
    "fechamento.plot()"
   ]
  },
  {
   "cell_type": "markdown",
   "metadata": {},
   "source": [
    "#### * Criando as análises solicitadas\n",
    "\n",
    "- Cotação máxima"
   ]
  },
  {
   "cell_type": "code",
   "execution_count": 9,
   "metadata": {},
   "outputs": [
    {
     "data": {
      "text/plain": [
       "np.float64(10.962862014770508)"
      ]
     },
     "execution_count": 9,
     "metadata": {},
     "output_type": "execute_result"
    }
   ],
   "source": [
    "fechamento.max()"
   ]
  },
  {
   "cell_type": "markdown",
   "metadata": {},
   "source": [
    "- Cotação mínima"
   ]
  },
  {
   "cell_type": "code",
   "execution_count": 10,
   "metadata": {},
   "outputs": [
    {
     "data": {
      "text/plain": [
       "np.float64(4.01722526550293)"
      ]
     },
     "execution_count": 10,
     "metadata": {},
     "output_type": "execute_result"
    }
   ],
   "source": [
    "fechamento.min()"
   ]
  },
  {
   "cell_type": "markdown",
   "metadata": {},
   "source": [
    "- Cotação média"
   ]
  },
  {
   "cell_type": "code",
   "execution_count": 11,
   "metadata": {},
   "outputs": [
    {
     "data": {
      "text/plain": [
       "np.float64(7.9362116994396334)"
      ]
     },
     "execution_count": 11,
     "metadata": {},
     "output_type": "execute_result"
    }
   ],
   "source": [
    "fechamento.mean()"
   ]
  },
  {
   "cell_type": "code",
   "execution_count": 12,
   "metadata": {},
   "outputs": [
    {
     "name": "stdout",
     "output_type": "stream",
     "text": [
      "10.962862014770508\n",
      "4.01722526550293\n",
      "7.9362116994396334\n"
     ]
    }
   ],
   "source": [
    "maxima = fechamento.max()\n",
    "minima = fechamento.min()\n",
    "valor_medio = fechamento.mean()\n",
    "\n",
    "print(maxima)\n",
    "print(minima)\n",
    "print(valor_medio)"
   ]
  },
  {
   "cell_type": "markdown",
   "metadata": {},
   "source": [
    "###### Vamos configurar esses números para que tenham uma melhor apresentação, visto que serão enviados por e-mail"
   ]
  },
  {
   "cell_type": "code",
   "execution_count": 13,
   "metadata": {},
   "outputs": [
    {
     "name": "stdout",
     "output_type": "stream",
     "text": [
      "10.96\n",
      "4.02\n",
      "7.94\n"
     ]
    }
   ],
   "source": [
    "maxima = round(fechamento.max(),2)\n",
    "minima = round(fechamento.min(),2)\n",
    "valor_medio = round(fechamento.mean(),2)\n",
    "\n",
    "print(maxima)\n",
    "print(minima)\n",
    "print(valor_medio)"
   ]
  },
  {
   "cell_type": "markdown",
   "metadata": {},
   "source": [
    "##### * Enviar o e-mail automaticamente\n",
    "     -- Passo a passo de como se envia um e-mail na forma tradicional\n",
    "- abrir o navegador e ir ao e-mail (seja ele qual for)\n",
    "- clicar no botão escrever\n",
    "- digitar o e-mail do destinátario e teclar TAB(para ir a próxima linha)\n",
    "- digitar o asssunto e teclar TAB\n",
    "- digitar a mensagem\n",
    "- clicar no Enviar\n",
    "\n",
    "Para fazer essa automação (ROBOZINHO) vamos utilizar de uma biblioteca chamada -> pyautogui  que em seu complemento vai trazer as seguintes bibliotecas:\n",
    "pyperclip, webbrowser\n",
    "\n",
    "pip install pyautogui"
   ]
  },
  {
   "cell_type": "markdown",
   "metadata": {},
   "source": [
    "##### Bibliotecas"
   ]
  },
  {
   "cell_type": "code",
   "execution_count": 47,
   "metadata": {},
   "outputs": [],
   "source": [
    "import pyautogui\n",
    "import pyperclip\n",
    "import webbrowser\n",
    "import time\n",
    "\n",
    "# Configurando as informações de envio\n",
    "destinatario = \"feralana1104756@gmail.com\"\n",
    "assunto = \"Análises do Projeto 2020\"\n",
    "\n",
    "mensagem = f\"\"\" \n",
    "Prezado gestor,\n",
    "\n",
    "Seguem as análises solicitadas da ação {ticker}:\n",
    "\n",
    "Cotação máxima: R$ {maxima}\n",
    "Cotação mínima: R$ {minima}\n",
    "Valor médio:    R$ {valor_medio}\n",
    "\n",
    "Qualquer dúvida, estou á disposição!\n",
    "\n",
    "Atte.\n",
    "\"\"\"\n",
    "\n",
    "# abrir o navegador e ir ao e-mail desejado\n",
    "webbrowser.open(\"www.gmail.com\")\n",
    "\n",
    "# abaixo vamos colocar um time para que o PYTHON ajuste o tempo de carregamento do e-mail, essa função irá auxiliar nas próximas configurações do projeto\n",
    "time.sleep(4)\n",
    "\n",
    "# Para não correr o riso do pyautogui sair disparado escrevendo desorientadamente devemos adicionar a ele um comando de pausa para que se execute com calma\n",
    "pyautogui.PAUSE = 3\n",
    "\n",
    "# Para clicar no botão escrever,o ponteiro do mouse tem uma coordenada no eixo X e eixo Y, esses pontos que determinarão a coordenada a ser clicada\n",
    "# Para descobrir essas coordenadas, PRIMEIRO vamos utilizamos o comando pyautogui.position() e onde o mouse for parado será a coordenada a ser adicionada\n",
    "# Então ao abrir na sequência o e-mail, já apontamos o mouse para o local onde está o botão escrever e teremos a coordenada do botão \"escrever\"\n",
    "pyautogui.click(x=74, y=213)\n",
    "\n",
    "# digitar o e-mail do destinátario e teclar TAB -> copia o e-mail de destino, cola o e-mail de destino e da o TAB\n",
    "pyperclip.copy(destinatario)\n",
    "pyautogui.hotkey(\"ctrl\", \"v\")\n",
    "pyautogui.hotkey(\"tab\")\n",
    "\n",
    "# digitar o assunto do e-mail\n",
    "pyperclip.copy(assunto)\n",
    "pyautogui.hotkey(\"ctrl\", \"v\")\n",
    "pyautogui.hotkey(\"tab\")\n",
    "\n",
    "# digitar a mensagem do e-mail\n",
    "pyperclip.copy(mensagem)\n",
    "pyautogui.hotkey(\"ctrl\", \"v\")\n",
    "\n",
    "# clicar no botão enviar\n",
    "pyautogui.click(x=1303, y=991)\n"
   ]
  },
  {
   "cell_type": "code",
   "execution_count": 45,
   "metadata": {},
   "outputs": [
    {
     "data": {
      "text/plain": [
       "Point(x=1303, y=991)"
      ]
     },
     "execution_count": 45,
     "metadata": {},
     "output_type": "execute_result"
    }
   ],
   "source": [
    "time.sleep(5)\n",
    "pyautogui.position()"
   ]
  }
 ],
 "metadata": {
  "kernelspec": {
   "display_name": "Python 3",
   "language": "python",
   "name": "python3"
  },
  "language_info": {
   "codemirror_mode": {
    "name": "ipython",
    "version": 3
   },
   "file_extension": ".py",
   "mimetype": "text/x-python",
   "name": "python",
   "nbconvert_exporter": "python",
   "pygments_lexer": "ipython3",
   "version": "3.12.2"
  }
 },
 "nbformat": 4,
 "nbformat_minor": 2
}
